{
 "cells": [
  {
   "cell_type": "markdown",
   "id": "34098196",
   "metadata": {},
   "source": [
    "## Relatório Modelo :\n",
    "\n",
    "O problema que estamos resolvendo é de classificação, pois queremos prever a categoria \"Yearly_wage\", podendo ser >50K ou <=50K. A coluna Education foi deletada, pois Education_num já contém a mesma informação com  tipo numérico. A coluna Fnlwgt também foi retirada pois grande maioria dos dados tendia a zero e continha alguns outliers muito extremos. Para normalizar os dados foi utilizado StandardScaler do sklearn. As linhas que continham dados faltantes também foram retiradas. Além disso foi necessário as categorias não numéricas em numéricas. Para encontrar o melhor modelo, foram escolhidos os seguintes algoritmos de classificação Gaussian Naive Bayes, Support Vector Classification, Logistic Regression, KNeighborsClassifier e DecisionTreeClassifier. Para decidir, qual é o melhor modelo serão levados os seguintes aspectos precision (Porcentagem das previsões que estavam corretas), recall (Porcentagem dos casos positivos identificados), F1 (Porcentagem de previsões positivas corretas), and support scores (Número de ocorrências da classe no conjunto de dados especificado). E também a curva AUC para verifica o quão bem ele distingue entre >50K e <=50K.\n",
    "\n",
    "Abaixo está o sumário para cada modelo e seus resultados:\n",
    "\n",
    "* [Gaussian Naive Bayes](#GaussianNaiveBayes)\n",
    "* [Support Vector Classification](#SupportVectorClassification)\n",
    "* [Logistic Regression](#LogisticRegression)\n",
    "* [KNeighborsClassifier](#KNeighborsClassifier)\n",
    "* [DecisionTreeClassifier](#DecisionTreeClassifier)\n",
    "\n",
    "O modelo KNeighborsClassifier obteve alta precisão e uma curva AUC boa comparado aos outros modelos,além disso não sofreu tanto quanto os outros, pelo fato dos dados estarem desbalanceado (muito mais 0 do que 1) para recall e f1-score, embora estes estejam a aquém do ideal, por isso o modelo KNeighborsClassifier foi o escolhido."
   ]
  },
  {
   "cell_type": "code",
   "execution_count": 1,
   "id": "96d5d4cf",
   "metadata": {},
   "outputs": [],
   "source": [
    "#Import\n",
    "import pandas as pd\n",
    "import numpy as np\n",
    "import matplotlib.pyplot as plt\n",
    "import seaborn as sns\n",
    "import sklearn as sk\n",
    "import plotly.express as px\n",
    "import plotly.graph_objs as go\n",
    "import plotly.offline as pyo"
   ]
  },
  {
   "cell_type": "code",
   "execution_count": 2,
   "id": "ffee63be",
   "metadata": {},
   "outputs": [],
   "source": [
    "#graficos\n",
    "sns.set_style('darkgrid') # darkgrid, white grid, dark, white and ticksplt.rc('axes', titlesize=18)     # fontsize of the axes title\n",
    "plt.rc('axes', labelsize=14)    # fontsize of the x and y labels\n",
    "plt.rc('xtick', labelsize=13)    # fontsize of the tick labels\n",
    "plt.rc('ytick', labelsize=13)    # fontsize of the tick labels\n",
    "plt.rc('legend', fontsize=13)    # legend fontsize\n",
    "plt.rc('font', size=13)          # controls default text sizes"
   ]
  },
  {
   "cell_type": "code",
   "execution_count": 3,
   "id": "c60f1d2c",
   "metadata": {},
   "outputs": [],
   "source": [
    "#read files\n",
    "data_train = pd.read_csv(\"wage_train.csv\")"
   ]
  },
  {
   "cell_type": "code",
   "execution_count": 4,
   "id": "66b5257e",
   "metadata": {},
   "outputs": [
    {
     "name": "stdout",
     "output_type": "stream",
     "text": [
      "<class 'pandas.core.frame.DataFrame'>\n",
      "RangeIndex: 32560 entries, 0 to 32559\n",
      "Data columns (total 16 columns):\n",
      " #   Column          Non-Null Count  Dtype \n",
      "---  ------          --------------  ----- \n",
      " 0   Unnamed: 0      32560 non-null  int64 \n",
      " 1   age             32560 non-null  int64 \n",
      " 2   workclass       32560 non-null  object\n",
      " 3   fnlwgt          32560 non-null  int64 \n",
      " 4   education       32560 non-null  object\n",
      " 5   education_num   32560 non-null  int64 \n",
      " 6   marital_status  32560 non-null  object\n",
      " 7   occupation      32560 non-null  object\n",
      " 8   relationship    32560 non-null  object\n",
      " 9   race            32560 non-null  object\n",
      " 10  sex             32560 non-null  object\n",
      " 11  capital_gain    32560 non-null  int64 \n",
      " 12  capital_loss    32560 non-null  int64 \n",
      " 13  hours_per_week  32560 non-null  int64 \n",
      " 14  native_country  32560 non-null  object\n",
      " 15  yearly_wage     32560 non-null  object\n",
      "dtypes: int64(7), object(9)\n",
      "memory usage: 4.0+ MB\n"
     ]
    }
   ],
   "source": [
    "#Verificar a integridade dos dados\n",
    "data_train.info()"
   ]
  },
  {
   "cell_type": "code",
   "execution_count": 5,
   "id": "a4875ebc",
   "metadata": {},
   "outputs": [
    {
     "data": {
      "text/plain": [
       "Unnamed: 0        0\n",
       "age               0\n",
       "workclass         0\n",
       "fnlwgt            0\n",
       "education         0\n",
       "education_num     0\n",
       "marital_status    0\n",
       "occupation        0\n",
       "relationship      0\n",
       "race              0\n",
       "sex               0\n",
       "capital_gain      0\n",
       "capital_loss      0\n",
       "hours_per_week    0\n",
       "native_country    0\n",
       "yearly_wage       0\n",
       "dtype: int64"
      ]
     },
     "execution_count": 5,
     "metadata": {},
     "output_type": "execute_result"
    }
   ],
   "source": [
    "data_train.isnull().sum()"
   ]
  },
  {
   "cell_type": "code",
   "execution_count": 6,
   "id": "8b5d0275",
   "metadata": {},
   "outputs": [
    {
     "data": {
      "text/plain": [
       "Index(['Unnamed: 0', 'age', 'workclass', 'fnlwgt', 'education',\n",
       "       'education_num', 'marital_status', 'occupation', 'relationship', 'race',\n",
       "       'sex', 'capital_gain', 'capital_loss', 'hours_per_week',\n",
       "       'native_country', 'yearly_wage'],\n",
       "      dtype='object')"
      ]
     },
     "execution_count": 6,
     "metadata": {},
     "output_type": "execute_result"
    }
   ],
   "source": [
    "data_train.columns"
   ]
  },
  {
   "cell_type": "code",
   "execution_count": 7,
   "id": "63ba5ed4",
   "metadata": {},
   "outputs": [
    {
     "name": "stdout",
     "output_type": "stream",
     "text": [
      "<class 'pandas.core.frame.DataFrame'>\n",
      "RangeIndex: 32560 entries, 0 to 32559\n",
      "Data columns (total 15 columns):\n",
      " #   Column          Non-Null Count  Dtype \n",
      "---  ------          --------------  ----- \n",
      " 0   age             32560 non-null  int64 \n",
      " 1   workclass       32560 non-null  object\n",
      " 2   fnlwgt          32560 non-null  int64 \n",
      " 3   education       32560 non-null  object\n",
      " 4   education_num   32560 non-null  int64 \n",
      " 5   marital_status  32560 non-null  object\n",
      " 6   occupation      32560 non-null  object\n",
      " 7   relationship    32560 non-null  object\n",
      " 8   race            32560 non-null  object\n",
      " 9   sex             32560 non-null  object\n",
      " 10  capital_gain    32560 non-null  int64 \n",
      " 11  capital_loss    32560 non-null  int64 \n",
      " 12  hours_per_week  32560 non-null  int64 \n",
      " 13  native_country  32560 non-null  object\n",
      " 14  yearly_wage     32560 non-null  object\n",
      "dtypes: int64(6), object(9)\n",
      "memory usage: 3.7+ MB\n"
     ]
    }
   ],
   "source": [
    "#elimicar coluna inutil Unnamed\n",
    "data_train.drop(['Unnamed: 0'], axis = 'columns', inplace = True)\n",
    "data_train.info()"
   ]
  },
  {
   "cell_type": "code",
   "execution_count": 8,
   "id": "2f7b6227",
   "metadata": {},
   "outputs": [
    {
     "data": {
      "text/html": [
       "<div>\n",
       "<style scoped>\n",
       "    .dataframe tbody tr th:only-of-type {\n",
       "        vertical-align: middle;\n",
       "    }\n",
       "\n",
       "    .dataframe tbody tr th {\n",
       "        vertical-align: top;\n",
       "    }\n",
       "\n",
       "    .dataframe thead th {\n",
       "        text-align: right;\n",
       "    }\n",
       "</style>\n",
       "<table border=\"1\" class=\"dataframe\">\n",
       "  <thead>\n",
       "    <tr style=\"text-align: right;\">\n",
       "      <th></th>\n",
       "      <th>age</th>\n",
       "      <th>fnlwgt</th>\n",
       "      <th>education_num</th>\n",
       "      <th>capital_gain</th>\n",
       "      <th>capital_loss</th>\n",
       "      <th>hours_per_week</th>\n",
       "    </tr>\n",
       "  </thead>\n",
       "  <tbody>\n",
       "    <tr>\n",
       "      <th>count</th>\n",
       "      <td>30161.000000</td>\n",
       "      <td>3.016100e+04</td>\n",
       "      <td>30161.000000</td>\n",
       "      <td>30161.000000</td>\n",
       "      <td>30161.000000</td>\n",
       "      <td>30161.000000</td>\n",
       "    </tr>\n",
       "    <tr>\n",
       "      <th>mean</th>\n",
       "      <td>38.437883</td>\n",
       "      <td>1.897976e+05</td>\n",
       "      <td>10.121216</td>\n",
       "      <td>1091.971984</td>\n",
       "      <td>88.375419</td>\n",
       "      <td>40.931269</td>\n",
       "    </tr>\n",
       "    <tr>\n",
       "      <th>std</th>\n",
       "      <td>13.134882</td>\n",
       "      <td>1.056527e+05</td>\n",
       "      <td>2.549983</td>\n",
       "      <td>7406.466659</td>\n",
       "      <td>404.304753</td>\n",
       "      <td>11.980182</td>\n",
       "    </tr>\n",
       "    <tr>\n",
       "      <th>min</th>\n",
       "      <td>17.000000</td>\n",
       "      <td>1.376900e+04</td>\n",
       "      <td>1.000000</td>\n",
       "      <td>0.000000</td>\n",
       "      <td>0.000000</td>\n",
       "      <td>1.000000</td>\n",
       "    </tr>\n",
       "    <tr>\n",
       "      <th>25%</th>\n",
       "      <td>28.000000</td>\n",
       "      <td>1.176280e+05</td>\n",
       "      <td>9.000000</td>\n",
       "      <td>0.000000</td>\n",
       "      <td>0.000000</td>\n",
       "      <td>40.000000</td>\n",
       "    </tr>\n",
       "    <tr>\n",
       "      <th>50%</th>\n",
       "      <td>37.000000</td>\n",
       "      <td>1.784290e+05</td>\n",
       "      <td>10.000000</td>\n",
       "      <td>0.000000</td>\n",
       "      <td>0.000000</td>\n",
       "      <td>40.000000</td>\n",
       "    </tr>\n",
       "    <tr>\n",
       "      <th>75%</th>\n",
       "      <td>47.000000</td>\n",
       "      <td>2.376300e+05</td>\n",
       "      <td>13.000000</td>\n",
       "      <td>0.000000</td>\n",
       "      <td>0.000000</td>\n",
       "      <td>45.000000</td>\n",
       "    </tr>\n",
       "    <tr>\n",
       "      <th>max</th>\n",
       "      <td>90.000000</td>\n",
       "      <td>1.484705e+06</td>\n",
       "      <td>16.000000</td>\n",
       "      <td>99999.000000</td>\n",
       "      <td>4356.000000</td>\n",
       "      <td>99.000000</td>\n",
       "    </tr>\n",
       "  </tbody>\n",
       "</table>\n",
       "</div>"
      ],
      "text/plain": [
       "                age        fnlwgt  education_num  capital_gain  capital_loss  \\\n",
       "count  30161.000000  3.016100e+04   30161.000000  30161.000000  30161.000000   \n",
       "mean      38.437883  1.897976e+05      10.121216   1091.971984     88.375419   \n",
       "std       13.134882  1.056527e+05       2.549983   7406.466659    404.304753   \n",
       "min       17.000000  1.376900e+04       1.000000      0.000000      0.000000   \n",
       "25%       28.000000  1.176280e+05       9.000000      0.000000      0.000000   \n",
       "50%       37.000000  1.784290e+05      10.000000      0.000000      0.000000   \n",
       "75%       47.000000  2.376300e+05      13.000000      0.000000      0.000000   \n",
       "max       90.000000  1.484705e+06      16.000000  99999.000000   4356.000000   \n",
       "\n",
       "       hours_per_week  \n",
       "count    30161.000000  \n",
       "mean        40.931269  \n",
       "std         11.980182  \n",
       "min          1.000000  \n",
       "25%         40.000000  \n",
       "50%         40.000000  \n",
       "75%         45.000000  \n",
       "max         99.000000  "
      ]
     },
     "execution_count": 8,
     "metadata": {},
     "output_type": "execute_result"
    }
   ],
   "source": [
    "#eliminar linhas com dados faltantes\n",
    "data_train.drop(data_train[data_train['occupation'] == ' ?'].index, inplace = True)\n",
    "data_train.drop(data_train[data_train['native_country'] == ' ?'].index, inplace = True)\n",
    "data_train.drop(data_train[data_train['workclass'] == ' ?'].index, inplace = True)\n",
    "\n",
    "#Estatisticas gerais sobre os dados\n",
    "data_train.describe()"
   ]
  },
  {
   "cell_type": "code",
   "execution_count": 9,
   "id": "6e300ced",
   "metadata": {},
   "outputs": [],
   "source": [
    "#eliminar atributos que não serão utilizados\n",
    "data_train=data_train.drop(['education', 'fnlwgt'], axis = 1)"
   ]
  },
  {
   "cell_type": "code",
   "execution_count": 10,
   "id": "55914a2b",
   "metadata": {},
   "outputs": [
    {
     "data": {
      "text/html": [
       "<div>\n",
       "<style scoped>\n",
       "    .dataframe tbody tr th:only-of-type {\n",
       "        vertical-align: middle;\n",
       "    }\n",
       "\n",
       "    .dataframe tbody tr th {\n",
       "        vertical-align: top;\n",
       "    }\n",
       "\n",
       "    .dataframe thead th {\n",
       "        text-align: right;\n",
       "    }\n",
       "</style>\n",
       "<table border=\"1\" class=\"dataframe\">\n",
       "  <thead>\n",
       "    <tr style=\"text-align: right;\">\n",
       "      <th></th>\n",
       "      <th>age</th>\n",
       "      <th>workclass</th>\n",
       "      <th>education_num</th>\n",
       "      <th>marital_status</th>\n",
       "      <th>occupation</th>\n",
       "      <th>relationship</th>\n",
       "      <th>race</th>\n",
       "      <th>sex</th>\n",
       "      <th>capital_gain</th>\n",
       "      <th>capital_loss</th>\n",
       "      <th>hours_per_week</th>\n",
       "      <th>native_country</th>\n",
       "      <th>yearly_wage</th>\n",
       "    </tr>\n",
       "  </thead>\n",
       "  <tbody>\n",
       "    <tr>\n",
       "      <th>0</th>\n",
       "      <td>50</td>\n",
       "      <td>4</td>\n",
       "      <td>13</td>\n",
       "      <td>2</td>\n",
       "      <td>3</td>\n",
       "      <td>0</td>\n",
       "      <td>4</td>\n",
       "      <td>1</td>\n",
       "      <td>0</td>\n",
       "      <td>0</td>\n",
       "      <td>13</td>\n",
       "      <td>38</td>\n",
       "      <td>0</td>\n",
       "    </tr>\n",
       "    <tr>\n",
       "      <th>1</th>\n",
       "      <td>38</td>\n",
       "      <td>2</td>\n",
       "      <td>9</td>\n",
       "      <td>0</td>\n",
       "      <td>5</td>\n",
       "      <td>1</td>\n",
       "      <td>4</td>\n",
       "      <td>1</td>\n",
       "      <td>0</td>\n",
       "      <td>0</td>\n",
       "      <td>40</td>\n",
       "      <td>38</td>\n",
       "      <td>0</td>\n",
       "    </tr>\n",
       "    <tr>\n",
       "      <th>2</th>\n",
       "      <td>53</td>\n",
       "      <td>2</td>\n",
       "      <td>7</td>\n",
       "      <td>2</td>\n",
       "      <td>5</td>\n",
       "      <td>0</td>\n",
       "      <td>2</td>\n",
       "      <td>1</td>\n",
       "      <td>0</td>\n",
       "      <td>0</td>\n",
       "      <td>40</td>\n",
       "      <td>38</td>\n",
       "      <td>0</td>\n",
       "    </tr>\n",
       "    <tr>\n",
       "      <th>3</th>\n",
       "      <td>28</td>\n",
       "      <td>2</td>\n",
       "      <td>13</td>\n",
       "      <td>2</td>\n",
       "      <td>9</td>\n",
       "      <td>5</td>\n",
       "      <td>2</td>\n",
       "      <td>0</td>\n",
       "      <td>0</td>\n",
       "      <td>0</td>\n",
       "      <td>40</td>\n",
       "      <td>4</td>\n",
       "      <td>0</td>\n",
       "    </tr>\n",
       "    <tr>\n",
       "      <th>4</th>\n",
       "      <td>37</td>\n",
       "      <td>2</td>\n",
       "      <td>14</td>\n",
       "      <td>2</td>\n",
       "      <td>3</td>\n",
       "      <td>5</td>\n",
       "      <td>4</td>\n",
       "      <td>0</td>\n",
       "      <td>0</td>\n",
       "      <td>0</td>\n",
       "      <td>40</td>\n",
       "      <td>38</td>\n",
       "      <td>0</td>\n",
       "    </tr>\n",
       "  </tbody>\n",
       "</table>\n",
       "</div>"
      ],
      "text/plain": [
       "   age  workclass  education_num  marital_status  occupation  relationship  \\\n",
       "0   50          4             13               2           3             0   \n",
       "1   38          2              9               0           5             1   \n",
       "2   53          2              7               2           5             0   \n",
       "3   28          2             13               2           9             5   \n",
       "4   37          2             14               2           3             5   \n",
       "\n",
       "   race  sex  capital_gain  capital_loss  hours_per_week  native_country  \\\n",
       "0     4    1             0             0              13              38   \n",
       "1     4    1             0             0              40              38   \n",
       "2     2    1             0             0              40              38   \n",
       "3     2    0             0             0              40               4   \n",
       "4     4    0             0             0              40              38   \n",
       "\n",
       "   yearly_wage  \n",
       "0            0  \n",
       "1            0  \n",
       "2            0  \n",
       "3            0  \n",
       "4            0  "
      ]
     },
     "execution_count": 10,
     "metadata": {},
     "output_type": "execute_result"
    }
   ],
   "source": [
    "#criar numeros para strings\n",
    "from sklearn.preprocessing import LabelEncoder\n",
    "le = LabelEncoder()\n",
    "data_train['workclass'] = le.fit_transform(data_train['workclass'])\n",
    "data_train['marital_status'] = le.fit_transform(data_train['marital_status'])\n",
    "data_train['occupation'] = le.fit_transform(data_train['occupation'])\n",
    "data_train['relationship'] = le.fit_transform(data_train['relationship'])\n",
    "data_train['race'] = le.fit_transform(data_train['race'])\n",
    "data_train['sex'] = le.fit_transform(data_train['sex'])\n",
    "data_train['native_country'] = le.fit_transform(data_train['native_country'])\n",
    "data_train['yearly_wage'] = le.fit_transform(data_train['yearly_wage'])\n",
    "\n",
    "data_train.head()"
   ]
  },
  {
   "cell_type": "code",
   "execution_count": 11,
   "id": "ee630dc8",
   "metadata": {
    "scrolled": true
   },
   "outputs": [],
   "source": [
    "#standard normal distribution\n",
    "from sklearn.preprocessing import StandardScaler\n",
    "from sklearn.model_selection import train_test_split\n",
    "sc=StandardScaler()\n",
    "ds_x = data_train.drop('yearly_wage',axis='columns')\n",
    "y=data_train['yearly_wage']\n",
    "dataset=sc.fit_transform(ds_x)\n",
    "x = pd.DataFrame(dataset,columns=ds_x.columns)\n",
    "X_train, X_test, y_train, y_test = train_test_split(x, y, test_size=0.5)"
   ]
  },
  {
   "cell_type": "code",
   "execution_count": 12,
   "id": "dc5986be",
   "metadata": {},
   "outputs": [
    {
     "data": {
      "text/html": [
       "<div>\n",
       "<style scoped>\n",
       "    .dataframe tbody tr th:only-of-type {\n",
       "        vertical-align: middle;\n",
       "    }\n",
       "\n",
       "    .dataframe tbody tr th {\n",
       "        vertical-align: top;\n",
       "    }\n",
       "\n",
       "    .dataframe thead th {\n",
       "        text-align: right;\n",
       "    }\n",
       "</style>\n",
       "<table border=\"1\" class=\"dataframe\">\n",
       "  <thead>\n",
       "    <tr style=\"text-align: right;\">\n",
       "      <th></th>\n",
       "      <th>age</th>\n",
       "      <th>workclass</th>\n",
       "      <th>education_num</th>\n",
       "      <th>marital_status</th>\n",
       "      <th>occupation</th>\n",
       "      <th>relationship</th>\n",
       "      <th>race</th>\n",
       "      <th>sex</th>\n",
       "      <th>capital_gain</th>\n",
       "      <th>capital_loss</th>\n",
       "      <th>hours_per_week</th>\n",
       "      <th>native_country</th>\n",
       "    </tr>\n",
       "  </thead>\n",
       "  <tbody>\n",
       "    <tr>\n",
       "      <th>19883</th>\n",
       "      <td>0.347334</td>\n",
       "      <td>-0.208884</td>\n",
       "      <td>-1.616201</td>\n",
       "      <td>1.615437</td>\n",
       "      <td>0.258090</td>\n",
       "      <td>-0.261254</td>\n",
       "      <td>-2.010994</td>\n",
       "      <td>-1.443370</td>\n",
       "      <td>-0.147437</td>\n",
       "      <td>-0.21859</td>\n",
       "      <td>-0.077735</td>\n",
       "      <td>0.264929</td>\n",
       "    </tr>\n",
       "    <tr>\n",
       "      <th>18110</th>\n",
       "      <td>-0.109472</td>\n",
       "      <td>-0.208884</td>\n",
       "      <td>0.344629</td>\n",
       "      <td>-1.722362</td>\n",
       "      <td>0.009915</td>\n",
       "      <td>-0.261254</td>\n",
       "      <td>-2.010994</td>\n",
       "      <td>0.692823</td>\n",
       "      <td>-0.147437</td>\n",
       "      <td>-0.21859</td>\n",
       "      <td>0.590045</td>\n",
       "      <td>0.264929</td>\n",
       "    </tr>\n",
       "    <tr>\n",
       "      <th>7844</th>\n",
       "      <td>-1.556026</td>\n",
       "      <td>-0.208884</td>\n",
       "      <td>-0.439703</td>\n",
       "      <td>0.947877</td>\n",
       "      <td>-0.238260</td>\n",
       "      <td>0.987703</td>\n",
       "      <td>0.385055</td>\n",
       "      <td>0.692823</td>\n",
       "      <td>-0.147437</td>\n",
       "      <td>-0.21859</td>\n",
       "      <td>-1.580242</td>\n",
       "      <td>0.264929</td>\n",
       "    </tr>\n",
       "    <tr>\n",
       "      <th>21845</th>\n",
       "      <td>1.032544</td>\n",
       "      <td>-0.208884</td>\n",
       "      <td>-0.047537</td>\n",
       "      <td>-1.722362</td>\n",
       "      <td>-1.479133</td>\n",
       "      <td>-0.261254</td>\n",
       "      <td>0.385055</td>\n",
       "      <td>-1.443370</td>\n",
       "      <td>-0.147437</td>\n",
       "      <td>-0.21859</td>\n",
       "      <td>-0.077735</td>\n",
       "      <td>0.264929</td>\n",
       "    </tr>\n",
       "    <tr>\n",
       "      <th>29832</th>\n",
       "      <td>-1.175354</td>\n",
       "      <td>-1.257334</td>\n",
       "      <td>1.128961</td>\n",
       "      <td>0.947877</td>\n",
       "      <td>0.754439</td>\n",
       "      <td>0.987703</td>\n",
       "      <td>-3.209019</td>\n",
       "      <td>-1.443370</td>\n",
       "      <td>-0.147437</td>\n",
       "      <td>-0.21859</td>\n",
       "      <td>-0.495098</td>\n",
       "      <td>-5.631524</td>\n",
       "    </tr>\n",
       "  </tbody>\n",
       "</table>\n",
       "</div>"
      ],
      "text/plain": [
       "            age  workclass  education_num  marital_status  occupation  \\\n",
       "19883  0.347334  -0.208884      -1.616201        1.615437    0.258090   \n",
       "18110 -0.109472  -0.208884       0.344629       -1.722362    0.009915   \n",
       "7844  -1.556026  -0.208884      -0.439703        0.947877   -0.238260   \n",
       "21845  1.032544  -0.208884      -0.047537       -1.722362   -1.479133   \n",
       "29832 -1.175354  -1.257334       1.128961        0.947877    0.754439   \n",
       "\n",
       "       relationship      race       sex  capital_gain  capital_loss  \\\n",
       "19883     -0.261254 -2.010994 -1.443370     -0.147437      -0.21859   \n",
       "18110     -0.261254 -2.010994  0.692823     -0.147437      -0.21859   \n",
       "7844       0.987703  0.385055  0.692823     -0.147437      -0.21859   \n",
       "21845     -0.261254  0.385055 -1.443370     -0.147437      -0.21859   \n",
       "29832      0.987703 -3.209019 -1.443370     -0.147437      -0.21859   \n",
       "\n",
       "       hours_per_week  native_country  \n",
       "19883       -0.077735        0.264929  \n",
       "18110        0.590045        0.264929  \n",
       "7844        -1.580242        0.264929  \n",
       "21845       -0.077735        0.264929  \n",
       "29832       -0.495098       -5.631524  "
      ]
     },
     "execution_count": 12,
     "metadata": {},
     "output_type": "execute_result"
    }
   ],
   "source": [
    "X_train.head()"
   ]
  },
  {
   "cell_type": "code",
   "execution_count": 13,
   "id": "20ccf068",
   "metadata": {},
   "outputs": [],
   "source": [
    "from sklearn.linear_model import LogisticRegression\n",
    "from sklearn.neighbors import KNeighborsClassifier\n",
    "from sklearn.tree import DecisionTreeClassifier\n",
    "from sklearn.naive_bayes import GaussianNB\n",
    "from sklearn import svm\n",
    "from sklearn.metrics import classification_report\n",
    "from sklearn.metrics import plot_roc_curve\n",
    "from sklearn import metrics"
   ]
  },
  {
   "cell_type": "markdown",
   "id": "f706f346",
   "metadata": {},
   "source": [
    "## Gaussian Naive Bayes <a class=\"anchor\" id=\"GaussianNaiveBayes\"></a>"
   ]
  },
  {
   "cell_type": "code",
   "execution_count": 14,
   "id": "8234cb14",
   "metadata": {},
   "outputs": [],
   "source": [
    "# Criando modelo e treinando com os dados de treino GaussianNB\n",
    "gb = GaussianNB()\n",
    "gb.fit(X_train, y_train)\n",
    "resultado_gb = gb.predict(X_test)"
   ]
  },
  {
   "cell_type": "code",
   "execution_count": 15,
   "id": "e631705e",
   "metadata": {},
   "outputs": [
    {
     "name": "stdout",
     "output_type": "stream",
     "text": [
      "GaussianNB\n",
      "              precision    recall  f1-score   support\n",
      "\n",
      "           0       0.81      0.95      0.88     11385\n",
      "           1       0.68      0.32      0.44      3696\n",
      "\n",
      "    accuracy                           0.80     15081\n",
      "   macro avg       0.75      0.64      0.66     15081\n",
      "weighted avg       0.78      0.80      0.77     15081\n",
      "\n"
     ]
    },
    {
     "data": {
      "image/png": "[encoded data removed]",
      "text/plain": [
       "<Figure size 432x288 with 1 Axes>"
      ]
     },
     "metadata": {},
     "output_type": "display_data"
    }
   ],
   "source": [
    "print(\"GaussianNB\")\n",
    "print(classification_report(y_test, resultado_gb))\n",
    "\n",
    "resultado_gb = gb.predict_proba(X_test)[::,1]\n",
    "fpr, tpr, _ = metrics.roc_curve(y_test,  resultado_gb)\n",
    "auc = metrics.roc_auc_score(y_test, resultado_gb)\n",
    "plt.plot(fpr,tpr,label=\"GaussianNB, auc=\"+str(auc))\n",
    "plt.legend(loc=4)\n",
    "plt.show()"
   ]
  },
  {
   "cell_type": "markdown",
   "id": "e175fe8c",
   "metadata": {},
   "source": [
    "## Support Vector Classification <a class=\"anchor\" id=\"SupportVectorClassification\"></a>"
   ]
  },
  {
   "cell_type": "code",
   "execution_count": 16,
   "id": "3ad416d6",
   "metadata": {},
   "outputs": [],
   "source": [
    "# Criando modelo e treinando com os dados de treino\n",
    "clf = svm.SVC(kernel='linear')\n",
    "clf.fit(X_train, y_train)\n",
    "resultado_clf = clf.predict(X_test)"
   ]
  },
  {
   "cell_type": "code",
   "execution_count": 17,
   "id": "a90182ae",
   "metadata": {},
   "outputs": [
    {
     "name": "stdout",
     "output_type": "stream",
     "text": [
      "SVC\n",
      "              precision    recall  f1-score   support\n",
      "\n",
      "           0       0.82      0.97      0.89     11385\n",
      "           1       0.79      0.33      0.46      3696\n",
      "\n",
      "    accuracy                           0.81     15081\n",
      "   macro avg       0.80      0.65      0.67     15081\n",
      "weighted avg       0.81      0.81      0.78     15081\n",
      "\n"
     ]
    }
   ],
   "source": [
    "print(\"SVC\")\n",
    "\n",
    "print(classification_report(y_test, resultado_clf))\n"
   ]
  },
  {
   "cell_type": "markdown",
   "id": "38c60578",
   "metadata": {},
   "source": [
    "## Logistic Regression <a class=\"anchor\" id=\"LogisticRegression\"></a>"
   ]
  },
  {
   "cell_type": "code",
   "execution_count": 18,
   "id": "e9cb4fd5",
   "metadata": {},
   "outputs": [],
   "source": [
    "# Criando modelo e treinando com os dados de treino\n",
    "clr = LogisticRegression()\n",
    "clr.fit(X_train, y_train)\n",
    "# Fazendo a predição nos dados de treino\n",
    "resultado_clr = clr.predict(X_test)"
   ]
  },
  {
   "cell_type": "code",
   "execution_count": 19,
   "id": "f24a6e07",
   "metadata": {},
   "outputs": [
    {
     "name": "stdout",
     "output_type": "stream",
     "text": [
      "LogisticRegression\n",
      "              precision    recall  f1-score   support\n",
      "\n",
      "           0       0.85      0.94      0.89     11385\n",
      "           1       0.71      0.47      0.57      3696\n",
      "\n",
      "    accuracy                           0.82     15081\n",
      "   macro avg       0.78      0.71      0.73     15081\n",
      "weighted avg       0.81      0.82      0.81     15081\n",
      "\n"
     ]
    },
    {
     "data": {
      "image/png": "[encoded data removed]",
      "text/plain": [
       "<Figure size 432x288 with 1 Axes>"
      ]
     },
     "metadata": {},
     "output_type": "display_data"
    }
   ],
   "source": [
    "print(\"LogisticRegression\")\n",
    "\n",
    "print(classification_report(y_test, resultado_clr))\n",
    "\n",
    "resultado_clr = clr.predict_proba(X_test)[::,1]\n",
    "fpr, tpr, _ = metrics.roc_curve(y_test,  resultado_clr)\n",
    "auc = metrics.roc_auc_score(y_test, resultado_clr)\n",
    "plt.plot(fpr,tpr,label=\"LogisticRegression, auc=\"+str(auc))\n",
    "plt.legend(loc=4)\n",
    "plt.show()"
   ]
  },
  {
   "cell_type": "markdown",
   "id": "85178094",
   "metadata": {},
   "source": [
    "## KNeighborsClassifier <a class=\"anchor\" id=\"KNeighborsClassifier\"></a>"
   ]
  },
  {
   "cell_type": "code",
   "execution_count": 20,
   "id": "a5079115",
   "metadata": {},
   "outputs": [],
   "source": [
    "# Criando modelo e treinando com os dados de treino\n",
    "knn = KNeighborsClassifier()\n",
    "knn.fit(X_train, y_train)\n",
    "# Fazendo a predição nos dados de treino\n",
    "resultado_knn = knn.predict(X_test)"
   ]
  },
  {
   "cell_type": "code",
   "execution_count": 21,
   "id": "3513d6f8",
   "metadata": {},
   "outputs": [
    {
     "name": "stdout",
     "output_type": "stream",
     "text": [
      "KNeighborsClassifier\n",
      "              precision    recall  f1-score   support\n",
      "\n",
      "           0       0.88      0.90      0.89     11385\n",
      "           1       0.66      0.61      0.64      3696\n",
      "\n",
      "    accuracy                           0.83     15081\n",
      "   macro avg       0.77      0.76      0.76     15081\n",
      "weighted avg       0.83      0.83      0.83     15081\n",
      "\n"
     ]
    },
    {
     "data": {
      "image/png": "[encoded data removed]",
      "text/plain": [
       "<Figure size 432x288 with 1 Axes>"
      ]
     },
     "metadata": {},
     "output_type": "display_data"
    }
   ],
   "source": [
    "print(\"KNeighborsClassifier\")\n",
    "print(classification_report(y_test, resultado_knn))\n",
    "\n",
    "resultado_knn = knn.predict_proba(X_test)[::,1]\n",
    "fpr, tpr, _ = metrics.roc_curve(y_test,  resultado_knn)\n",
    "auc = metrics.roc_auc_score(y_test, resultado_knn)\n",
    "plt.plot(fpr,tpr,label=\"KNeighborsClassifier, auc=\"+str(auc))\n",
    "plt.legend(loc=4)\n",
    "plt.show()"
   ]
  },
  {
   "cell_type": "markdown",
   "id": "49056e23",
   "metadata": {},
   "source": [
    "## DecisionTreeClassifier <a class=\"anchor\" id=\"DecisionTreeClassifier\"></a>"
   ]
  },
  {
   "cell_type": "code",
   "execution_count": 22,
   "id": "239c8065",
   "metadata": {},
   "outputs": [],
   "source": [
    "# Criando modelo e treinando com os dados de treino\n",
    "dtc = DecisionTreeClassifier()\n",
    "dtc.fit(X_train, y_train)\n",
    "# Fazendo a predição nos dados de treino\n",
    "resultado_dtc = dtc.predict(X_test)"
   ]
  },
  {
   "cell_type": "code",
   "execution_count": 23,
   "id": "72ea76a0",
   "metadata": {
    "scrolled": true
   },
   "outputs": [
    {
     "name": "stdout",
     "output_type": "stream",
     "text": [
      "DecisionTreeClassifier\n",
      "              precision    recall  f1-score   support\n",
      "\n",
      "           0       0.88      0.87      0.87     11385\n",
      "           1       0.61      0.62      0.61      3696\n",
      "\n",
      "    accuracy                           0.81     15081\n",
      "   macro avg       0.74      0.74      0.74     15081\n",
      "weighted avg       0.81      0.81      0.81     15081\n",
      "\n"
     ]
    },
    {
     "data": {
      "image/png": "[encoded data removed]",
      "text/plain": [
       "<Figure size 432x288 with 1 Axes>"
      ]
     },
     "metadata": {},
     "output_type": "display_data"
    }
   ],
   "source": [
    "# Principais métricas de performance\n",
    "print(\"DecisionTreeClassifier\")\n",
    "\n",
    "print(classification_report(y_test, resultado_dtc))\n",
    "\n",
    "resultado_dtc = dtc.predict_proba(X_test)[::,1]\n",
    "fpr, tpr, _ = metrics.roc_curve(y_test,  resultado_dtc)\n",
    "auc = metrics.roc_auc_score(y_test, resultado_dtc)\n",
    "plt.plot(fpr,tpr,label=\"DecisionTreeClassifier, auc=\"+str(auc))\n",
    "plt.legend(loc=4)\n",
    "plt.show()"
   ]
  },
  {
   "cell_type": "code",
   "execution_count": 24,
   "id": "00ec5b7d",
   "metadata": {},
   "outputs": [
    {
     "data": {
      "text/html": [
       "<div>\n",
       "<style scoped>\n",
       "    .dataframe tbody tr th:only-of-type {\n",
       "        vertical-align: middle;\n",
       "    }\n",
       "\n",
       "    .dataframe tbody tr th {\n",
       "        vertical-align: top;\n",
       "    }\n",
       "\n",
       "    .dataframe thead th {\n",
       "        text-align: right;\n",
       "    }\n",
       "</style>\n",
       "<table border=\"1\" class=\"dataframe\">\n",
       "  <thead>\n",
       "    <tr style=\"text-align: right;\">\n",
       "      <th></th>\n",
       "      <th>age</th>\n",
       "      <th>education_num</th>\n",
       "      <th>capital_gain</th>\n",
       "      <th>capital_loss</th>\n",
       "      <th>hours_per_week</th>\n",
       "    </tr>\n",
       "  </thead>\n",
       "  <tbody>\n",
       "    <tr>\n",
       "      <th>count</th>\n",
       "      <td>15059.000000</td>\n",
       "      <td>15059.000000</td>\n",
       "      <td>15059.000000</td>\n",
       "      <td>15059.000000</td>\n",
       "      <td>15059.000000</td>\n",
       "    </tr>\n",
       "    <tr>\n",
       "      <th>mean</th>\n",
       "      <td>38.769241</td>\n",
       "      <td>10.112956</td>\n",
       "      <td>1120.375988</td>\n",
       "      <td>89.047812</td>\n",
       "      <td>40.951657</td>\n",
       "    </tr>\n",
       "    <tr>\n",
       "      <th>std</th>\n",
       "      <td>13.380649</td>\n",
       "      <td>2.558686</td>\n",
       "      <td>7703.432212</td>\n",
       "      <td>406.296088</td>\n",
       "      <td>12.063229</td>\n",
       "    </tr>\n",
       "    <tr>\n",
       "      <th>min</th>\n",
       "      <td>17.000000</td>\n",
       "      <td>1.000000</td>\n",
       "      <td>0.000000</td>\n",
       "      <td>0.000000</td>\n",
       "      <td>1.000000</td>\n",
       "    </tr>\n",
       "    <tr>\n",
       "      <th>25%</th>\n",
       "      <td>28.000000</td>\n",
       "      <td>9.000000</td>\n",
       "      <td>0.000000</td>\n",
       "      <td>0.000000</td>\n",
       "      <td>40.000000</td>\n",
       "    </tr>\n",
       "    <tr>\n",
       "      <th>50%</th>\n",
       "      <td>37.000000</td>\n",
       "      <td>10.000000</td>\n",
       "      <td>0.000000</td>\n",
       "      <td>0.000000</td>\n",
       "      <td>40.000000</td>\n",
       "    </tr>\n",
       "    <tr>\n",
       "      <th>75%</th>\n",
       "      <td>48.000000</td>\n",
       "      <td>13.000000</td>\n",
       "      <td>0.000000</td>\n",
       "      <td>0.000000</td>\n",
       "      <td>45.000000</td>\n",
       "    </tr>\n",
       "    <tr>\n",
       "      <th>max</th>\n",
       "      <td>90.000000</td>\n",
       "      <td>16.000000</td>\n",
       "      <td>99999.000000</td>\n",
       "      <td>3770.000000</td>\n",
       "      <td>99.000000</td>\n",
       "    </tr>\n",
       "  </tbody>\n",
       "</table>\n",
       "</div>"
      ],
      "text/plain": [
       "                age  education_num  capital_gain  capital_loss  hours_per_week\n",
       "count  15059.000000   15059.000000  15059.000000  15059.000000    15059.000000\n",
       "mean      38.769241      10.112956   1120.375988     89.047812       40.951657\n",
       "std       13.380649       2.558686   7703.432212    406.296088       12.063229\n",
       "min       17.000000       1.000000      0.000000      0.000000        1.000000\n",
       "25%       28.000000       9.000000      0.000000      0.000000       40.000000\n",
       "50%       37.000000      10.000000      0.000000      0.000000       40.000000\n",
       "75%       48.000000      13.000000      0.000000      0.000000       45.000000\n",
       "max       90.000000      16.000000  99999.000000   3770.000000       99.000000"
      ]
     },
     "execution_count": 24,
     "metadata": {},
     "output_type": "execute_result"
    }
   ],
   "source": [
    "data_test = pd.read_csv(\"wage_test.csv\")\n",
    "#elimicar coluna inutil Unnamed\n",
    "data_test.drop(['Unnamed: 0'], axis = 'columns', inplace = True)\n",
    "#eliminar linhas com dados faltantes\n",
    "data_test.drop(data_test[data_test['occupation'] == ' ?'].index, inplace = True)\n",
    "data_test.drop(data_test[data_test['native_country'] == ' ?'].index, inplace = True)\n",
    "data_test.drop(data_test[data_test['workclass'] == ' ?'].index, inplace = True)\n",
    "#eliminar atributos que não serão utilizados\n",
    "data_test=data_test.drop(['education', 'fnlwgt'], axis = 1)\n",
    "#Estatisticas gerais sobre os dados\n",
    "data_test.describe()\n",
    "\n"
   ]
  },
  {
   "cell_type": "code",
   "execution_count": 25,
   "id": "b58dca36",
   "metadata": {},
   "outputs": [
    {
     "name": "stdout",
     "output_type": "stream",
     "text": [
      "<class 'pandas.core.frame.DataFrame'>\n",
      "Int64Index: 15059 entries, 0 to 16279\n",
      "Data columns (total 12 columns):\n",
      " #   Column          Non-Null Count  Dtype \n",
      "---  ------          --------------  ----- \n",
      " 0   age             15059 non-null  int64 \n",
      " 1   workclass       15059 non-null  object\n",
      " 2   education_num   15059 non-null  int64 \n",
      " 3   marital_status  15059 non-null  object\n",
      " 4   occupation      15059 non-null  object\n",
      " 5   relationship    15059 non-null  object\n",
      " 6   race            15059 non-null  object\n",
      " 7   sex             15059 non-null  object\n",
      " 8   capital_gain    15059 non-null  int64 \n",
      " 9   capital_loss    15059 non-null  int64 \n",
      " 10  hours_per_week  15059 non-null  int64 \n",
      " 11  native_country  15059 non-null  object\n",
      "dtypes: int64(5), object(7)\n",
      "memory usage: 2.0+ MB\n"
     ]
    }
   ],
   "source": [
    "data_test.info()"
   ]
  },
  {
   "cell_type": "code",
   "execution_count": 26,
   "id": "3236650d",
   "metadata": {},
   "outputs": [
    {
     "data": {
      "text/html": [
       "<div>\n",
       "<style scoped>\n",
       "    .dataframe tbody tr th:only-of-type {\n",
       "        vertical-align: middle;\n",
       "    }\n",
       "\n",
       "    .dataframe tbody tr th {\n",
       "        vertical-align: top;\n",
       "    }\n",
       "\n",
       "    .dataframe thead th {\n",
       "        text-align: right;\n",
       "    }\n",
       "</style>\n",
       "<table border=\"1\" class=\"dataframe\">\n",
       "  <thead>\n",
       "    <tr style=\"text-align: right;\">\n",
       "      <th></th>\n",
       "      <th>age</th>\n",
       "      <th>workclass</th>\n",
       "      <th>education_num</th>\n",
       "      <th>marital_status</th>\n",
       "      <th>occupation</th>\n",
       "      <th>relationship</th>\n",
       "      <th>race</th>\n",
       "      <th>sex</th>\n",
       "      <th>capital_gain</th>\n",
       "      <th>capital_loss</th>\n",
       "      <th>hours_per_week</th>\n",
       "      <th>native_country</th>\n",
       "    </tr>\n",
       "  </thead>\n",
       "  <tbody>\n",
       "    <tr>\n",
       "      <th>0</th>\n",
       "      <td>38</td>\n",
       "      <td>2</td>\n",
       "      <td>9</td>\n",
       "      <td>2</td>\n",
       "      <td>4</td>\n",
       "      <td>0</td>\n",
       "      <td>4</td>\n",
       "      <td>1</td>\n",
       "      <td>0</td>\n",
       "      <td>0</td>\n",
       "      <td>50</td>\n",
       "      <td>37</td>\n",
       "    </tr>\n",
       "    <tr>\n",
       "      <th>1</th>\n",
       "      <td>28</td>\n",
       "      <td>1</td>\n",
       "      <td>12</td>\n",
       "      <td>2</td>\n",
       "      <td>10</td>\n",
       "      <td>0</td>\n",
       "      <td>4</td>\n",
       "      <td>1</td>\n",
       "      <td>0</td>\n",
       "      <td>0</td>\n",
       "      <td>40</td>\n",
       "      <td>37</td>\n",
       "    </tr>\n",
       "    <tr>\n",
       "      <th>2</th>\n",
       "      <td>44</td>\n",
       "      <td>2</td>\n",
       "      <td>10</td>\n",
       "      <td>2</td>\n",
       "      <td>6</td>\n",
       "      <td>0</td>\n",
       "      <td>2</td>\n",
       "      <td>1</td>\n",
       "      <td>7688</td>\n",
       "      <td>0</td>\n",
       "      <td>40</td>\n",
       "      <td>37</td>\n",
       "    </tr>\n",
       "    <tr>\n",
       "      <th>4</th>\n",
       "      <td>34</td>\n",
       "      <td>2</td>\n",
       "      <td>6</td>\n",
       "      <td>4</td>\n",
       "      <td>7</td>\n",
       "      <td>1</td>\n",
       "      <td>4</td>\n",
       "      <td>1</td>\n",
       "      <td>0</td>\n",
       "      <td>0</td>\n",
       "      <td>30</td>\n",
       "      <td>37</td>\n",
       "    </tr>\n",
       "    <tr>\n",
       "      <th>6</th>\n",
       "      <td>63</td>\n",
       "      <td>4</td>\n",
       "      <td>15</td>\n",
       "      <td>2</td>\n",
       "      <td>9</td>\n",
       "      <td>0</td>\n",
       "      <td>4</td>\n",
       "      <td>1</td>\n",
       "      <td>3103</td>\n",
       "      <td>0</td>\n",
       "      <td>32</td>\n",
       "      <td>37</td>\n",
       "    </tr>\n",
       "  </tbody>\n",
       "</table>\n",
       "</div>"
      ],
      "text/plain": [
       "   age  workclass  education_num  marital_status  occupation  relationship  \\\n",
       "0   38          2              9               2           4             0   \n",
       "1   28          1             12               2          10             0   \n",
       "2   44          2             10               2           6             0   \n",
       "4   34          2              6               4           7             1   \n",
       "6   63          4             15               2           9             0   \n",
       "\n",
       "   race  sex  capital_gain  capital_loss  hours_per_week  native_country  \n",
       "0     4    1             0             0              50              37  \n",
       "1     4    1             0             0              40              37  \n",
       "2     2    1          7688             0              40              37  \n",
       "4     4    1             0             0              30              37  \n",
       "6     4    1          3103             0              32              37  "
      ]
     },
     "execution_count": 26,
     "metadata": {},
     "output_type": "execute_result"
    }
   ],
   "source": [
    "le = LabelEncoder()\n",
    "data_test['workclass'] = le.fit_transform(data_test['workclass'])\n",
    "data_test['marital_status'] = le.fit_transform(data_test['marital_status'])\n",
    "data_test['occupation'] = le.fit_transform(data_test['occupation'])\n",
    "data_test['relationship'] = le.fit_transform(data_test['relationship'])\n",
    "data_test['race'] = le.fit_transform(data_test['race'])\n",
    "data_test['sex'] = le.fit_transform(data_test['sex'])\n",
    "data_test['native_country'] = le.fit_transform(data_test['native_country'])\n",
    "\n",
    "data_test.head()"
   ]
  },
  {
   "cell_type": "code",
   "execution_count": 27,
   "id": "e3346658",
   "metadata": {},
   "outputs": [],
   "source": [
    "#new_resultado = gb.predict(data_test)\n",
    "#predicted= pd.DataFrame({'predictedValues':new_resultado})\n",
    "#writer = pd.ExcelWriter('gb.xlsx')\n",
    "#predicted.to_excel(writer)\n",
    "#writer.save()"
   ]
  },
  {
   "cell_type": "code",
   "execution_count": 28,
   "id": "bcc6129b",
   "metadata": {},
   "outputs": [],
   "source": [
    "#new_resultado = clf.predict(data_test)\n",
    "#predicted= pd.DataFrame({'predictedValues':new_resultado})\n",
    "#writer = pd.ExcelWriter('clf.xlsx')\n",
    "#predicted.to_excel(writer)\n",
    "#writer.save()"
   ]
  },
  {
   "cell_type": "code",
   "execution_count": 29,
   "id": "e8cad279",
   "metadata": {},
   "outputs": [],
   "source": [
    "#new_resultado = clr.predict(data_test)\n",
    "#predicted= pd.DataFrame({'predictedValues':new_resultado})\n",
    "#writer = pd.ExcelWriter('clr.xlsx')\n",
    "#predicted.to_excel(writer)\n",
    "#writer.save()"
   ]
  },
  {
   "cell_type": "code",
   "execution_count": 30,
   "id": "2cfa3f8f",
   "metadata": {},
   "outputs": [],
   "source": [
    "new_resultado = knn.predict(data_test)\n",
    "predicted= pd.DataFrame({'predictedValues':new_resultado})\n",
    "writer = pd.ExcelWriter('knn.xlsx')\n",
    "predicted.to_excel(writer)\n",
    "writer.save()"
   ]
  },
  {
   "cell_type": "code",
   "execution_count": 31,
   "id": "6b3c9ff5",
   "metadata": {},
   "outputs": [],
   "source": [
    "#new_resultado = dtc.predict(data_test)\n",
    "#predicted= pd.DataFrame({'predictedValues':new_resultado})\n",
    "#writer = pd.ExcelWriter('dtc.xlsx')\n",
    "#predicted.to_excel(writer)\n",
    "#writer.save()"
   ]
  }
 ],
 "metadata": {
  "kernelspec": {
   "display_name": "Python 3",
   "language": "python",
   "name": "python3"
  },
  "language_info": {
   "codemirror_mode": {
    "name": "ipython",
    "version": 3
   },
   "file_extension": ".py",
   "mimetype": "text/x-python",
   "name": "python",
   "nbconvert_exporter": "python",
   "pygments_lexer": "ipython3",
   "version": "3.8.8"
  }
 },
 "nbformat": 4,
 "nbformat_minor": 5
}
